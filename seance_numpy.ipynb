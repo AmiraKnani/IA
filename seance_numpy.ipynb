{
  "nbformat": 4,
  "nbformat_minor": 0,
  "metadata": {
    "colab": {
      "provenance": [],
      "authorship_tag": "ABX9TyMDYubfSDHJ7GDfPFNugyEl",
      "include_colab_link": true
    },
    "kernelspec": {
      "name": "python3",
      "display_name": "Python 3"
    },
    "language_info": {
      "name": "python"
    }
  },
  "cells": [
    {
      "cell_type": "markdown",
      "metadata": {
        "id": "view-in-github",
        "colab_type": "text"
      },
      "source": [
        "<a href=\"https://colab.research.google.com/github/AmiraKnani/IA/blob/main/seance_numpy.ipynb\" target=\"_parent\"><img src=\"https://colab.research.google.com/assets/colab-badge.svg\" alt=\"Open In Colab\"/></a>"
      ]
    },
    {
      "cell_type": "code",
      "execution_count": null,
      "metadata": {
        "id": "JEehCvoTKX-W"
      },
      "outputs": [],
      "source": [
        "import numpy as np\n",
        "from numpy.random import standard_normal, normal, multivariate_normal\n",
        "from scipy.spatial.distance import euclidean"
      ]
    },
    {
      "cell_type": "code",
      "source": [
        "# les juniors\n",
        "mu1=np.array([1000,28])\n",
        "sigma1=np.array([[5,0],[0,10]])\n",
        "juniors=multivariate_normal(mean=mu1,cov=sigma1,size=500)\n"
      ],
      "metadata": {
        "id": "GtgcI_GgKcI7"
      },
      "execution_count": null,
      "outputs": []
    },
    {
      "cell_type": "code",
      "source": [
        "# les seniors\n",
        "mu2=np.array([5000,55])\n",
        "sigma2=np.array([[100,0],[0,2]])\n",
        "seniors=multivariate_normal(mean=mu2,cov=sigma2,size=50)"
      ],
      "metadata": {
        "id": "TcClEMo3Kgc8"
      },
      "execution_count": null,
      "outputs": []
    },
    {
      "cell_type": "markdown",
      "source": [
        "**Travail demandé:**\n",
        "\n",
        "On veut decider pour un nouvel employé (requete) s'il appartient à la classe des employés seniors ou à la classe des employés jeniors ?\n",
        "  \n",
        "      Exemple: \n",
        "        \n",
        "        Nom: Safa\n",
        "        Salaire: 4500\n",
        "        Age: 46\n",
        "\n",
        "        Décision: Safa est senior"
      ],
      "metadata": {
        "id": "2lDWyzPkNL4v"
      }
    },
    {
      "cell_type": "markdown",
      "source": [
        "**Solution 1 (kmeans)**\n",
        "\n",
        "1. Calculer la moyenne arithmétique de chaque classe (jeniors et seniors): mu_seniors et mu_juniors\n",
        "2. Calculer la distance euclidienne entre :\n",
        "     - requete et mu_seniors\n",
        "     - requete et mu_juniors\n",
        "3. Decider en se basant sur les distances obtenues"
      ],
      "metadata": {
        "id": "7IkfN1I8NPWa"
      }
    },
    {
      "cell_type": "code",
      "source": [
        "#Clacul de la moyenne arithmétique des juniors\n",
        "mu_juniors=sum(juniors) / len(juniors)\n",
        "mu_juniors"
      ],
      "metadata": {
        "colab": {
          "base_uri": "https://localhost:8080/"
        },
        "id": "Z3hDwYYqM-lq",
        "outputId": "41941c38-b7a1-43d4-8bc1-0c832b7c297a"
      },
      "execution_count": null,
      "outputs": [
        {
          "output_type": "execute_result",
          "data": {
            "text/plain": [
              "array([999.87940335,  28.0149959 ])"
            ]
          },
          "metadata": {},
          "execution_count": 21
        }
      ]
    },
    {
      "cell_type": "code",
      "source": [
        "#Calcul de la moyenne arithmétique des seniors\n",
        "mu_seniors=sum(seniors) / len(seniors)\n",
        "mu_seniors"
      ],
      "metadata": {
        "colab": {
          "base_uri": "https://localhost:8080/"
        },
        "id": "0Sw7CImvNELB",
        "outputId": "7a9d4a6e-4f1b-4bb6-90f2-2060ab22932e"
      },
      "execution_count": null,
      "outputs": [
        {
          "output_type": "execute_result",
          "data": {
            "text/plain": [
              "array([4999.98441971,   54.99090565])"
            ]
          },
          "metadata": {},
          "execution_count": 22
        }
      ]
    },
    {
      "cell_type": "code",
      "source": [
        "#Calcule de la distance euclidienne entre requete et mu_juniors\n",
        "requete=np.array([4500,46])\n",
        "dist_juniors=euclidean(mu_juniors,requete)\n",
        "dist_juniors"
      ],
      "metadata": {
        "colab": {
          "base_uri": "https://localhost:8080/"
        },
        "id": "gmlLrRIfNeBo",
        "outputId": "7d78c829-3b78-4b01-b5bc-5b3c353ea7bf"
      },
      "execution_count": null,
      "outputs": [
        {
          "output_type": "execute_result",
          "data": {
            "text/plain": [
              "3500.166803380019"
            ]
          },
          "metadata": {},
          "execution_count": 36
        }
      ]
    },
    {
      "cell_type": "code",
      "source": [
        "#Calcule de la distance euclidienne entre requete et mu_seniors\n",
        "dist_seniors=euclidean(mu_seniors,requete)\n",
        "dist_seniors"
      ],
      "metadata": {
        "colab": {
          "base_uri": "https://localhost:8080/"
        },
        "id": "bvS8Xm8LOA7V",
        "outputId": "f2739154-bcc2-48a7-b559-25eb2c07cd93"
      },
      "execution_count": null,
      "outputs": [
        {
          "output_type": "execute_result",
          "data": {
            "text/plain": [
              "500.065252081535"
            ]
          },
          "metadata": {},
          "execution_count": 37
        }
      ]
    },
    {
      "cell_type": "code",
      "source": [
        "#Decider en se basant sur les distances obtenues\n",
        "if (dist_juniors < dist_seniors):\n",
        "  print(\"employé appartient à la classe des junior\")\n",
        "else :\n",
        "  print(\"employé appartient à la classe des senior\")\n"
      ],
      "metadata": {
        "colab": {
          "base_uri": "https://localhost:8080/"
        },
        "id": "T3OlofC3OCU_",
        "outputId": "1dadfdfe-3ce7-47f1-8af8-ab44597aa257"
      },
      "execution_count": null,
      "outputs": [
        {
          "output_type": "stream",
          "name": "stdout",
          "text": [
            "employé appartient à la classe des senior\n"
          ]
        }
      ]
    },
    {
      "cell_type": "markdown",
      "source": [
        "**Solution 2 (knn)**\n",
        "\n",
        "1. Concaténer verticalement les employés seniors et juniors dans une seule matrice que vous appelez X\n",
        "  \n",
        "        Note: \n",
        "        Utiliser la fonction X=np.vstack([X1,X2])\n",
        "\n",
        "2. Génerer un vecteur labels de dimension=nombre total des employés \n",
        "\n",
        "  Ce vecteur labels contient des valeurs soit 1 ou 2 seulement comme suit :\n",
        "    - valeur 1 qui indique que l'employé est junior\n",
        "    - valeur 2 qui indique que l'employé est senior\n",
        "\n",
        "3. Calculer les distances entre requete et tous les employés X\n",
        "\n",
        "4. Trier les indices des employés par proximité à la requete (en se basant sur les distances obtenues).\n",
        "\n",
        "  Garder juste les k=5 les plus proches seulement\n",
        "\n",
        "5. En utilisant les k indices triés et les labels, determiner la classe (junior ou senior) qui est la plus proche de la requete ?"
      ],
      "metadata": {
        "id": "VEXcT_5tQXge"
      }
    },
    {
      "cell_type": "code",
      "source": [
        "#Concaténer verticalement les employés seniors et juniors dans une seule matrice que vous appelez X\n",
        "X=np.vstack([juniors,seniors])"
      ],
      "metadata": {
        "id": "hb-N8l4AOfp6"
      },
      "execution_count": null,
      "outputs": []
    },
    {
      "cell_type": "code",
      "source": [
        "#Initialiser le vecteur label\n",
        "vec_lab=np.empty(len(X))"
      ],
      "metadata": {
        "id": "vx6IXAr7RJxg"
      },
      "execution_count": null,
      "outputs": []
    },
    {
      "cell_type": "code",
      "source": [
        "#Remplir le vecteur label\n",
        "for i in range(len(X)):\n",
        "  if (X[i] in juniors) :\n",
        "    vec_lab[i]=1\n",
        "  else:\n",
        "    vec_lab[i]=2"
      ],
      "metadata": {
        "id": "yWxfVPsmQtrz"
      },
      "execution_count": null,
      "outputs": []
    },
    {
      "cell_type": "code",
      "source": [
        "#Initialiser le vecteur distance\n",
        "vec_dist=np.empty(len(X))"
      ],
      "metadata": {
        "id": "mNxoCTcpRC5u"
      },
      "execution_count": null,
      "outputs": []
    },
    {
      "cell_type": "code",
      "source": [
        "#Remplir le vecteur distance\n",
        "for i in range(len(X)):\n",
        "  vec_dist[i]=euclidean(X[i],requete)"
      ],
      "metadata": {
        "id": "PMJKdVnqUTLf"
      },
      "execution_count": null,
      "outputs": []
    },
    {
      "cell_type": "code",
      "source": [
        "import pandas as pd"
      ],
      "metadata": {
        "id": "WTB_4IGDXk64"
      },
      "execution_count": null,
      "outputs": []
    },
    {
      "cell_type": "code",
      "source": [
        "#Concaténer les deux vecteurs label et distance dans dataframe\n",
        "df=pd.DataFrame({'label': vec_lab,'dist': vec_dist})"
      ],
      "metadata": {
        "id": "qe4JC9E8Vdwo"
      },
      "execution_count": null,
      "outputs": []
    },
    {
      "cell_type": "code",
      "source": [
        "#Trier les distances par ordre croissant\n",
        "df=df.sort_values(by=\"dist\")"
      ],
      "metadata": {
        "id": "6yzdYpjtVfPm"
      },
      "execution_count": null,
      "outputs": []
    },
    {
      "cell_type": "code",
      "source": [
        "#Exrtraire la nature des plus proches indices\n",
        "j=0\n",
        "s=0\n",
        "for i in range(5):\n",
        "  if df['label'].iloc[i]==1.0:\n",
        "    j=j+1\n",
        "  else: s=s+1"
      ],
      "metadata": {
        "id": "_-0lR0eFW-M7"
      },
      "execution_count": null,
      "outputs": []
    },
    {
      "cell_type": "code",
      "source": [
        "##Decider en se basant sur les calculs précédents\n",
        "if j>s :\n",
        "  print(\"employé appartient à la classe des junior\")\n",
        "else: \n",
        "  print(\"employé appartient à la classe des senior\")"
      ],
      "metadata": {
        "colab": {
          "base_uri": "https://localhost:8080/"
        },
        "id": "R3Evm-TydIjx",
        "outputId": "7e47f46a-15dd-41e9-b17c-5b7faef5983e"
      },
      "execution_count": null,
      "outputs": [
        {
          "output_type": "stream",
          "name": "stdout",
          "text": [
            "employé appartient à la classe des senior\n"
          ]
        }
      ]
    },
    {
      "cell_type": "markdown",
      "source": [
        "**Solution 3 (gmm):**\n",
        "\n",
        "1. Estimer la loi gaussienne (mu,sigma) de chacune de 2 classes de population (seniors et juniors :\n",
        " - G_seniors : mu_seniors et sigma_seniors des seniors\n",
        " - G_juniors : mu_geniors et sigma_geniors des juniors\n",
        "\n",
        "  Note: Utiliser les fonctions suivantes:\n",
        " - np.mean(X) pour calculer la moyenne arithmétique\n",
        " - np.cov(X.T) pour calculer la covariance\n",
        "\n",
        "2. Calculer la vraisemblance de la requete dans chaque classe\n",
        "\n",
        "  Note: La vraisemblance d'une donnée selon une classe est la probabilité de cette donnée selon la loi qui caractérise la classe.\n",
        "  \n",
        "  - La vraisemblance de la requete selon la classe seniors :\n",
        " \n",
        "    vrais_requete_seniors =  probabilité de requete selon la loi normale multivariée (mu_seniors , sigma_seniors)\n",
        "  - La vraisemblance de la requete selon la classe juniors :\n",
        "    vrais_requete_juniors =  probabilité de requete selon la loi normale multivariée (mu_juniors , sigma_juniors)\n",
        "\n",
        "  Note: Utiliser la fonction pdf de la classe multivariate_normal de module scipy.stats comme suit :\n",
        "          Exemple: Soit la loi normale multivariée G=(mu,sigma). \n",
        "          La probabilité de x selon la loi G est calculé comme suit :\n",
        "          mn=multivariate_normal(mu,sigma)\n",
        "          mn.pdf(x)\n",
        "\n",
        "3. Calculer la probabilité prior de chaque classe:\n",
        "\n",
        "  Note: La probabilité prior d'une classe est le poids de la classe dans la population globale.\n",
        "\n",
        " - proba_prior_seniors=cardinal_seniors/nombre total d'employés\n",
        " - proba_prior_juniors=cardinal_juniors/nombre total d'employés\n",
        "\n",
        "4. Pour décider sur l'appartenance d'un employé à une classe, on peut utiliser le théorème de Bayes. \n",
        "\n",
        "  Note: Théorème de Bayes\n",
        "  La probailité posterior = probabilité n va appliquer le théoreme de Bayes pour calculer la probabilté posterior de la requete étant donn é chaque classe comme suit :\n",
        "- proba_post_requete_seniors = vrais_requete_seniors x proba_prior_seniors\n",
        "- proba_post_requete_juniors = vrais_requete_juniors x proba_prior_juniors\n",
        "\n",
        "  L'employé requete appartient à la classe qui donne la probabilté posterior la plus elevée\n"
      ],
      "metadata": {
        "id": "KAtllSaTgL8i"
      }
    },
    {
      "cell_type": "code",
      "source": [
        "from sklearn import mixture"
      ],
      "metadata": {
        "id": "S8iuvSD-FIcv"
      },
      "execution_count": null,
      "outputs": []
    },
    {
      "cell_type": "code",
      "source": [
        "gmm = mixture.GaussianMixture(n_components=2, covariance_type='full').fit(X)"
      ],
      "metadata": {
        "id": "b7TeZogOAwDv"
      },
      "execution_count": null,
      "outputs": []
    },
    {
      "cell_type": "code",
      "source": [
        "gmm.means_"
      ],
      "metadata": {
        "colab": {
          "base_uri": "https://localhost:8080/"
        },
        "id": "hV6dOtdlfOOm",
        "outputId": "8c3f62d7-e6fa-4d56-f3fb-ba97719d61bf"
      },
      "execution_count": null,
      "outputs": [
        {
          "output_type": "execute_result",
          "data": {
            "text/plain": [
              "array([[ 999.87940335,   28.0149959 ],\n",
              "       [4999.98441971,   54.99090565]])"
            ]
          },
          "metadata": {},
          "execution_count": 61
        }
      ]
    },
    {
      "cell_type": "code",
      "source": [],
      "metadata": {
        "id": "0bjJ6Zy48QUp"
      },
      "execution_count": null,
      "outputs": []
    },
    {
      "cell_type": "code",
      "source": [],
      "metadata": {
        "id": "RqOh-hx28poP"
      },
      "execution_count": null,
      "outputs": []
    }
  ]
}