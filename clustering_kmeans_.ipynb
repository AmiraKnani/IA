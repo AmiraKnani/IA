{
  "nbformat": 4,
  "nbformat_minor": 0,
  "metadata": {
    "colab": {
      "provenance": [],
      "collapsed_sections": [],
      "include_colab_link": true
    },
    "kernelspec": {
      "name": "python3",
      "display_name": "Python 3"
    },
    "language_info": {
      "name": "python"
    }
  },
  "cells": [
    {
      "cell_type": "markdown",
      "metadata": {
        "id": "view-in-github",
        "colab_type": "text"
      },
      "source": [
        "<a href=\"https://colab.research.google.com/github/AmiraKnani/IA/blob/main/clustering_kmeans_.ipynb\" target=\"_parent\"><img src=\"https://colab.research.google.com/assets/colab-badge.svg\" alt=\"Open In Colab\"/></a>"
      ]
    },
    {
      "cell_type": "markdown",
      "source": [
        "**Description**"
      ],
      "metadata": {
        "id": "DnAHeymRpgW6"
      }
    },
    {
      "cell_type": "markdown",
      "source": [
        "Kmeans est une technique de Machine Learning qui est utilisée pour le regroupement des données (clustering) en groupes (clusters).\n",
        "\n",
        "*Modèle:*\n",
        "\n",
        "Le modèle de Kmeans est l'ensemble des centres des clusters.\n",
        "\n",
        "*Hyperparamètre:*\n",
        "\n",
        "Kmeans a un hyperparamètre appelé K qui représente le nombre de clusters.\n",
        "\n",
        "*Apprentissage:*\n",
        "\n",
        "L'algorithme d'apprentissage de Kmeans est non supervisé : il apprend avec des données non étiquetées. Cet algorithme essaie de trouver les centres des clusters optimales. \n",
        "\n",
        "*Prédiction:*\n",
        "\n",
        "Une fois l'apprentissage est fini, Kmeans permet de prédire pour un point donné à quel groupe il appartient."
      ],
      "metadata": {
        "id": "mnI4YC-Xp1d9"
      }
    },
    {
      "cell_type": "markdown",
      "source": [
        "**Données d'apprentissage**\n",
        "\n",
        "Soit une population ds employés qu'on veut regrouper en clusters.\n",
        "\n",
        "Créer une matrice des données d'employés X (comme étant des points de même dimension).\n",
        "\n",
        "              X=[1100.67 31\n",
        "                 3500.98 58\n",
        "                 1300.58 35\n",
        "                 3100.98 55\n",
        "                 1200.77 32]\n"
      ],
      "metadata": {
        "id": "6m5N15rERu7c"
      }
    },
    {
      "cell_type": "code",
      "source": [
        "import numpy as np"
      ],
      "metadata": {
        "id": "2gATk4qKU2Dq"
      },
      "execution_count": 16,
      "outputs": []
    },
    {
      "cell_type": "code",
      "source": [
        "X=np.array([[1100.67,31],\n",
        "             [3500.98,58],\n",
        "             [1300.58,35],\n",
        "             [3100.98,55],\n",
        "             [1200.77,32]])"
      ],
      "metadata": {
        "id": "WA0OxfnOfcgK"
      },
      "execution_count": 114,
      "outputs": []
    },
    {
      "cell_type": "markdown",
      "source": [
        "**Hyperparamètre**\n",
        "\n",
        "Choisir le nombre des clusters K"
      ],
      "metadata": {
        "id": "Jf2lQtSHt5ha"
      }
    },
    {
      "cell_type": "code",
      "source": [
        "K=2"
      ],
      "metadata": {
        "id": "QmZLC8Fft-11"
      },
      "execution_count": 46,
      "outputs": []
    },
    {
      "cell_type": "markdown",
      "source": [
        "**Modèle**"
      ],
      "metadata": {
        "id": "BLSrONc9rXLY"
      }
    },
    {
      "cell_type": "markdown",
      "source": [
        "Initialiser les centres des clusters\n",
        "\n",
        "Choisir d'une façon aléatoire K points des données comme centres des clusters.\n",
        "\n",
        "Notes:\n",
        "- Mettre les centres intiales dans une matrice M\n",
        "- Utiliser la fonction random.sample()"
      ],
      "metadata": {
        "id": "E40gTT0Kpq26"
      }
    },
    {
      "cell_type": "code",
      "source": [
        "import random  \n",
        "M=np.array(random.sample(list(X),2))\n",
        "M"
      ],
      "metadata": {
        "id": "KghlOQyvkYF1",
        "colab": {
          "base_uri": "https://localhost:8080/"
        },
        "outputId": "7b2bbe5e-22f7-427a-b374-7eaca495e8e5"
      },
      "execution_count": 19,
      "outputs": [
        {
          "output_type": "execute_result",
          "data": {
            "text/plain": [
              "array([[1300.58,   35.  ],\n",
              "       [3500.98,   58.  ]])"
            ]
          },
          "metadata": {},
          "execution_count": 19
        }
      ]
    },
    {
      "cell_type": "markdown",
      "source": [
        "**Apprentissage**"
      ],
      "metadata": {
        "id": "2jdvBY3JuDOQ"
      }
    },
    {
      "cell_type": "markdown",
      "source": [
        "L'algorithme est comme suit :\n",
        "\n",
        "          Pour chaque t de 0 jusqu'à T-1 faire\n",
        "            Pour chaque point p des données faire\n",
        "              Pour chaque centre m_i des clusters M faire\n",
        "                d=distance euclidienne(p,m_i)\n",
        "                Ajouter d dans distances\n",
        "              label de p = argmin(distances) \n",
        "              Ajouter label à labels\n",
        "            Pour chaque centre m_i des clusters faire\n",
        "              c=moyenne arithmétique des points ayant label egale à i"
      ],
      "metadata": {
        "id": "huyacmnbunBt"
      }
    },
    {
      "cell_type": "markdown",
      "source": [
        "Etape 1: Implémenter la fonction predire_label() qui prend un point p et qui retourne le label de cluster auquel p appartient.\n",
        "\n",
        "        Pour chaque centre m_i des clusters M faire\n",
        "            d=distance euclidienne(p,m_i)\n",
        "            Ajouter d dans distances\n",
        "        label de p = argmin(distances)\n",
        "\n",
        "Notes:\n",
        "- Utiliser M comme variable globale.\n",
        "- Utiliser la fonction np.argmin()"
      ],
      "metadata": {
        "id": "deqlYW8ax1CP"
      }
    },
    {
      "cell_type": "code",
      "source": [
        "from scipy.spatial.distance import euclidean\n",
        "distances=np.empty(len(X)*2)"
      ],
      "metadata": {
        "id": "f9-RyZPSYLBV"
      },
      "execution_count": 20,
      "outputs": []
    },
    {
      "cell_type": "code",
      "source": [
        "j=i=0\n",
        "for i in range(len(X)):\n",
        "  d=euclidean(X[i],M[0])\n",
        "  distances[j]=d\n",
        "  d=euclidean(X[i],M[1])\n",
        "  distances[j+1]=d\n",
        "  j=j+2\n",
        "distances\n",
        "p= np.argmin(distances)"
      ],
      "metadata": {
        "id": "642iRH6UulwM"
      },
      "execution_count": 21,
      "outputs": []
    },
    {
      "cell_type": "markdown",
      "source": [
        "Etape 2: Définir la fonction determiner_labels() qui prend un ensemble des points X et qui retourne les labels de tous les points.\n",
        "\n",
        "Cette fonction impélmente la partie de l'algorithme d'apprentissage suivante:\n",
        "\n",
        "          Pour chaque point p des données faire\n",
        "              Pour chaque centre m_i des clusters M faire\n",
        "                d=distance euclidienne(p,m_i)\n",
        "                Ajouter d dans distances\n",
        "              label de p = argmin(distances) \n",
        "              Ajouter label à labels\n",
        "Note:\n",
        "- Un label designe l'indice de groupe auquel apparetient un point.\n",
        "- Utiliser la fonction predire_label()\n",
        "- Utiliser M comme variable globale."
      ],
      "metadata": {
        "id": "6pIRrZP_yoaF"
      }
    },
    {
      "cell_type": "code",
      "source": [
        "labels=np.empty(len(X),dtype='<U6')\n",
        "labels\n"
      ],
      "metadata": {
        "colab": {
          "base_uri": "https://localhost:8080/"
        },
        "id": "9a6ZNwNeIGwk",
        "outputId": "c78582a7-d710-4878-b39e-d6944364f6d6"
      },
      "execution_count": 22,
      "outputs": [
        {
          "output_type": "execute_result",
          "data": {
            "text/plain": [
              "array(['', '', '', '', ''], dtype='<U6')"
            ]
          },
          "metadata": {},
          "execution_count": 22
        }
      ]
    },
    {
      "cell_type": "code",
      "source": [
        "j=i=0\n",
        "for i in range(len(X)):\n",
        "  d=euclidean(X[i],M[0])\n",
        "  distances[j]=d\n",
        "  d=euclidean(X[i],M[1])\n",
        "  distances[j+1]=d\n",
        "  p= distances[j]-distances[j+1]\n",
        "  if (p>0):\n",
        "    labels[i]=\"C1\";\n",
        "  else:\n",
        "    labels[i]=\"C2\";\n",
        "  j=j+2\n",
        "labels"
      ],
      "metadata": {
        "id": "Nnzb5g-50p6C",
        "colab": {
          "base_uri": "https://localhost:8080/"
        },
        "outputId": "c3c0b236-9012-4ada-91fa-0b9f1ec4385e"
      },
      "execution_count": 23,
      "outputs": [
        {
          "output_type": "execute_result",
          "data": {
            "text/plain": [
              "array(['C2', 'C1', 'C2', 'C1', 'C2'], dtype='<U6')"
            ]
          },
          "metadata": {},
          "execution_count": 23
        }
      ]
    },
    {
      "cell_type": "markdown",
      "source": [
        "Etape 3: Définir une fonction mettre_a_jour_centres() qui prend les points et leurs labels d'appartenance aux clusters.\n",
        "\n",
        "          Pour chaque centre m_i des clusters faire\n",
        "              m_i=moyenne arithmétique des points ayant label egale à i\n",
        "\n",
        "Note:\n",
        "- Utiliser np.mean()"
      ],
      "metadata": {
        "id": "JPXmfBbd0u7F"
      }
    },
    {
      "cell_type": "code",
      "source": [
        "final=np.column_stack((X,labels))\n",
        "C1=np.empty(len(X),dtype=object)\n",
        "C2=np.empty(len(X), dtype=object)\n",
        "j=0\n",
        "for i in range(len(final)):\n",
        "  if(final[i,2]==\"C1\"):\n",
        "    C1[j]=X[i]\n",
        "    j=j+1\n",
        "  else:\n",
        "    C2[j]=X[i]\n",
        "print(C1)\n",
        "print(C2)"
      ],
      "metadata": {
        "id": "0gYvX6QK1yM2",
        "colab": {
          "base_uri": "https://localhost:8080/"
        },
        "outputId": "78fc175d-65bc-4ada-e7d1-ea824089c6d6"
      },
      "execution_count": 128,
      "outputs": [
        {
          "output_type": "stream",
          "name": "stdout",
          "text": [
            "[array([3500.98,   58.  ]) array([3100.98,   55.  ]) None None None]\n",
            "[array([1100.67,   31.  ]) array([1300.58,   35.  ])\n",
            " array([1200.77,   32.  ]) None None]\n"
          ]
        }
      ]
    },
    {
      "cell_type": "markdown",
      "source": [
        "Etape 4:\n",
        "\n",
        "Définir la fonction fit() qui implémente tout l'algorithme d'apprentissage. Elle prend l'ensemble des points X et elle met à jour M (les centres des clusters).\n",
        "\n",
        "Notes:\n",
        "- Utiliser M comme une variable globale.\n",
        "- Utiliser les fonctions determiner_labels() et les fonctions mettre_a_jour()"
      ],
      "metadata": {
        "id": "R11nasb52BqU"
      }
    },
    {
      "cell_type": "code",
      "source": [
        "#"
      ],
      "metadata": {
        "id": "q3HBBokt4Fo1"
      },
      "execution_count": null,
      "outputs": []
    },
    {
      "cell_type": "markdown",
      "source": [
        "**Prédiction**\n",
        "\n",
        "Définir une fonction predict() qui prend une matrice des points d'employés X. Elle retourne les labels de ces points.\n",
        "\n",
        "Note:\n",
        "- Utiliser la fonction predire_label\n",
        "- Utiliser M comme variable globale."
      ],
      "metadata": {
        "id": "tUFCmV-u7jaF"
      }
    },
    {
      "cell_type": "code",
      "source": [
        "#"
      ],
      "metadata": {
        "id": "EgkuTmPT8GGp"
      },
      "execution_count": null,
      "outputs": []
    },
    {
      "cell_type": "markdown",
      "source": [
        "**Recap**\n",
        "\n",
        "Nous allons définir Kmeans sous la forme d'une classe que vous appelez Kmeans.\n",
        "\n",
        "Elle contient les fonctions suivantes:\n",
        "- un constructeur dans lequel:\n",
        "  - L'hyperparamètre K est considéré comme attribut d'objet. Il permet de l'initialiser.\n",
        "  - Le modèle M (les centres de clusters) est initialisé aléatoirement\n",
        "- la fonction fit() définie ci-dessus\n",
        "- la fonction predict() définie ci-dessus"
      ],
      "metadata": {
        "id": "b4qWcMnO8HdF"
      }
    },
    {
      "cell_type": "code",
      "source": [
        "#"
      ],
      "metadata": {
        "id": "7x7LgAoG8ppV"
      },
      "execution_count": null,
      "outputs": []
    }
  ]
}